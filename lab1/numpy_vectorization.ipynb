{
 "cells": [
  {
   "cell_type": "markdown",
   "metadata": {},
   "source": [
    "# Numpy"
   ]
  },
  {
   "cell_type": "code",
   "execution_count": 3,
   "metadata": {},
   "outputs": [
    {
     "name": "stdout",
     "output_type": "stream",
     "text": [
      "(2, 3)\n"
     ]
    }
   ],
   "source": [
    "import numpy as np\n",
    "  \n",
    "# Creating array object\n",
    "arr = np.array( [[ 1, 2, 3],\n",
    "                 [ 4, 2, 5]] )  \n",
    "# Print dimensions of the matrix\n",
    "print(arr.shape)"
   ]
  },
  {
   "cell_type": "code",
   "execution_count": 2,
   "metadata": {},
   "outputs": [
    {
     "name": "stdout",
     "output_type": "stream",
     "text": [
      "x = \n",
      " [[0. 0. 0.]\n",
      " [0. 0. 0.]]\n",
      "y = \n",
      " [[1 1 1 1]\n",
      " [1 1 1 1]\n",
      " [1 1 1 1]\n",
      " [1 1 1 1]]\n"
     ]
    }
   ],
   "source": [
    "# Creating 2x3 matrix initialized with zeros of type float\n",
    "x = np.zeros((2,3), dtype='float')\n",
    "print(\"x = \\n\", x)\n",
    "\n",
    "# Creating 4x4 matrix initialized with ones of type int\n",
    "y = np.ones((4,4), dtype='int')\n",
    "print(\"y = \\n\", y)"
   ]
  },
  {
   "cell_type": "code",
   "execution_count": 4,
   "metadata": {},
   "outputs": [
    {
     "name": "stdout",
     "output_type": "stream",
     "text": [
      "[[ 2.   0. ]\n",
      " [-0.5  6. ]]\n"
     ]
    }
   ],
   "source": [
    "arr = np.array([[-1, 2, 0, 4],\n",
    "                [4, -0.5, 6, 0],\n",
    "                [2.6, 0, 7, 8],\n",
    "                [3, -7, 4, 2.0]])\n",
    "\n",
    "# indexing/slicing matrices\n",
    "arr2 = arr[:2, 1:3]\n",
    "print(arr2)"
   ]
  },
  {
   "cell_type": "markdown",
   "metadata": {},
   "source": [
    "## Linear Algebra using numpy"
   ]
  },
  {
   "cell_type": "code",
   "execution_count": 5,
   "metadata": {},
   "outputs": [],
   "source": [
    "# element-wise arithemetic operations\n",
    "x_list = [1,2,3]\n",
    "# print(x_list+1) error\n",
    "\n",
    "a = np.array(x_list)"
   ]
  },
  {
   "cell_type": "code",
   "execution_count": 5,
   "metadata": {},
   "outputs": [
    {
     "name": "stdout",
     "output_type": "stream",
     "text": [
      "Adding 1 to every element: [2 3 4]\n",
      "Subtracting 3 from each element: [-2 -1  0]\n",
      "Multiplying each element by 10: [10 20 30]\n",
      "Squaring each element: [1 4 9]\n",
      "Doubled each element of original array: [2 4 6]\n"
     ]
    }
   ],
   "source": [
    "# add 1 to every element\n",
    "print (\"Adding 1 to every element:\", a+1)\n",
    "  \n",
    "# subtract 3 from each element\n",
    "print (\"Subtracting 3 from each element:\", a-3)\n",
    "  \n",
    "# multiply each element by 10\n",
    "print (\"Multiplying each element by 10:\", a*10)\n",
    "  \n",
    "# square each element\n",
    "print (\"Squaring each element:\", a**2)\n",
    "  \n",
    "# modify existing array\n",
    "a *= 2\n",
    "print (\"Doubled each element of original array:\", a)"
   ]
  },
  {
   "cell_type": "code",
   "execution_count": 6,
   "metadata": {},
   "outputs": [
    {
     "name": "stdout",
     "output_type": "stream",
     "text": [
      "Array sum:\n",
      " [[ 6  8]\n",
      " [10 12]]\n",
      "Array multiplication:\n",
      " [[ 5 12]\n",
      " [21 32]]\n",
      "Matrix multiplication:\n",
      " [[19 22]\n",
      " [43 50]]\n"
     ]
    }
   ],
   "source": [
    "a = np.array([[1, 2],\n",
    "            [3, 4]])\n",
    "b = np.array([[5, 6],\n",
    "            [7, 8]])\n",
    "  \n",
    "# add arrays\n",
    "print (\"Array sum:\\n\", a + b)\n",
    "  \n",
    "# multiply arrays (elementwise multiplication)\n",
    "print (\"Array multiplication:\\n\", a*b)\n",
    "  \n",
    "# matrix multiplication\n",
    "print (\"Matrix multiplication:\\n\", a.dot(b))"
   ]
  },
  {
   "cell_type": "markdown",
   "metadata": {},
   "source": [
    "# Vectorization \n",
    "\n",
    "### Using optimal and pre-compiled functions"
   ]
  },
  {
   "cell_type": "code",
   "execution_count": 6,
   "metadata": {},
   "outputs": [
    {
     "name": "stdout",
     "output_type": "stream",
     "text": [
      "(2000, 3000)\n"
     ]
    }
   ],
   "source": [
    "# create 2 matrices of very large size\n",
    "w, h = 2000, 3000\n",
    "a = np.random.rand(w, h)\n",
    "b = np.random.rand(w, h)\n",
    "c = np.zeros((w, h))\n",
    "print(a.shape)"
   ]
  },
  {
   "cell_type": "code",
   "execution_count": 7,
   "metadata": {},
   "outputs": [
    {
     "name": "stdout",
     "output_type": "stream",
     "text": [
      "Time taken using for loops:\n",
      "3734.375 ms\n"
     ]
    }
   ],
   "source": [
    "import time\n",
    "\n",
    "tic = time.process_time()\n",
    "  \n",
    "for i in range(a.shape[0]):\n",
    "    for j in range(a.shape[1]):\n",
    "      c[i][j]= a[i][j]*b[i][j]\n",
    "  \n",
    "toc = time.process_time()\n",
    "\n",
    "print(\"Time taken using for loops:\")\n",
    "print((toc-tic)*1000, \"ms\")"
   ]
  },
  {
   "cell_type": "code",
   "execution_count": 8,
   "metadata": {},
   "outputs": [
    {
     "name": "stdout",
     "output_type": "stream",
     "text": [
      "Time taken using vectorization:\n",
      "15.625 ms\n"
     ]
    }
   ],
   "source": [
    "tic = time.process_time()\n",
    "  \n",
    "c = a*b\n",
    "  \n",
    "toc = time.process_time()\n",
    "\n",
    "print(\"Time taken using vectorization:\")\n",
    "print((toc-tic)*1000, \"ms\")"
   ]
  }
 ],
 "metadata": {
  "kernelspec": {
   "display_name": "Python 3.9.5 64-bit",
   "language": "python",
   "name": "python3"
  },
  "language_info": {
   "codemirror_mode": {
    "name": "ipython",
    "version": 3
   },
   "file_extension": ".py",
   "mimetype": "text/x-python",
   "name": "python",
   "nbconvert_exporter": "python",
   "pygments_lexer": "ipython3",
   "version": "3.8.5"
  },
  "orig_nbformat": 4,
  "vscode": {
   "interpreter": {
    "hash": "56d63fae70f68736446525346265f6355ad43a0a745e8ebaa47c58885d755432"
   }
  }
 },
 "nbformat": 4,
 "nbformat_minor": 2
}
